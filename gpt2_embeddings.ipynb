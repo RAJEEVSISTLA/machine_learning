{
 "cells": [
  {
   "cell_type": "code",
   "execution_count": 4,
   "id": "af33cd6c",
   "metadata": {},
   "outputs": [
    {
     "name": "stderr",
     "output_type": "stream",
     "text": [
      "C:\\ML\\Lib\\site-packages\\transformers\\tokenization_utils_base.py:1601: FutureWarning: `clean_up_tokenization_spaces` was not set. It will be set to `True` by default. This behavior will be depracted in transformers v4.45, and will be then set to `False` by default. For more details check this issue: https://github.com/huggingface/transformers/issues/31884\n",
      "  warnings.warn(\n"
     ]
    },
    {
     "name": "stdout",
     "output_type": "stream",
     "text": [
      "Embeddings saved to C:\\Users\\SISTLA RAHUL\\Desktop\\MLPROJECT_with_embeddings.xlsx\n"
     ]
    }
   ],
   "source": [
    "import pandas as pd\n",
    "import torch\n",
    "from transformers import GPT2Tokenizer, GPT2Model\n",
    "from sklearn.preprocessing import MinMaxScaler\n",
    "\n",
    "# Load Excel file\n",
    "file_path = r\"C:\\Users\\SISTLA RAHUL\\Desktop\\MLPROJECT.xlsx\"\n",
    "data = pd.read_excel(file_path)\n",
    "\n",
    "# Initialize GPT-2 tokenizer and model\n",
    "tokenizer = GPT2Tokenizer.from_pretrained(\"gpt2\")\n",
    "model = GPT2Model.from_pretrained(\"gpt2\")\n",
    "\n",
    "# Set pad token to eos token to avoid padding error\n",
    "tokenizer.pad_token = tokenizer.eos_token\n",
    "\n",
    "# Define a function to generate GPT-2 embeddings\n",
    "def get_gpt2_embedding(text):\n",
    "    inputs = tokenizer(text, return_tensors=\"pt\", \n",
    "                       truncation=True, padding=\"max_length\", max_length=128)\n",
    "    with torch.no_grad():\n",
    "        outputs = model(**inputs).last_hidden_state.mean(dim=1).squeeze()\n",
    "    return outputs.numpy()\n",
    "\n",
    "# Generate embeddings for each row and store them\n",
    "data['GPT2_Embedding'] = data.apply(lambda row: get_gpt2_embedding(str(row.values)), axis=1)\n",
    "\n",
    "# Convert the embeddings to a DataFrame and scale them to the range of -1 to 1\n",
    "embeddings_df = pd.DataFrame(data['GPT2_Embedding'].tolist())\n",
    "\n",
    "# Scale the embeddings to be between -1 and 1\n",
    "scaler = MinMaxScaler(feature_range=(-1, 1))\n",
    "scaled_embeddings = scaler.fit_transform(embeddings_df)\n",
    "\n",
    "# Create a new DataFrame with the scaled embeddings\n",
    "scaled_embeddings_df = pd.DataFrame(scaled_embeddings, columns=[f'Embedding_{i+1}' for i in range(768)])\n",
    "\n",
    "# Concatenate the original DataFrame with the scaled embeddings\n",
    "final_data = pd.concat([data, scaled_embeddings_df], axis=1)\n",
    "\n",
    "# Save embeddings back to Excel\n",
    "output_path = r\"C:\\Users\\SISTLA RAHUL\\Desktop\\MLPROJECT_with_embeddings.xlsx\"\n",
    "final_data.to_excel(output_path, index=False)\n",
    "\n",
    "print(f\"Embeddings saved to {output_path}\")\n"
   ]
  },
  {
   "cell_type": "code",
   "execution_count": null,
   "id": "61094cf6",
   "metadata": {},
   "outputs": [],
   "source": []
  }
 ],
 "metadata": {
  "kernelspec": {
   "display_name": "Python 3 (ipykernel)",
   "language": "python",
   "name": "python3"
  },
  "language_info": {
   "codemirror_mode": {
    "name": "ipython",
    "version": 3
   },
   "file_extension": ".py",
   "mimetype": "text/x-python",
   "name": "python",
   "nbconvert_exporter": "python",
   "pygments_lexer": "ipython3",
   "version": "3.11.5"
  }
 },
 "nbformat": 4,
 "nbformat_minor": 5
}
