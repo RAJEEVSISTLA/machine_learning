{
  "nbformat": 4,
  "nbformat_minor": 0,
  "metadata": {
    "colab": {
      "provenance": []
    },
    "kernelspec": {
      "name": "python3",
      "display_name": "Python 3"
    },
    "language_info": {
      "name": "python"
    }
  },
  "cells": [
    {
      "cell_type": "code",
      "execution_count": 30,
      "metadata": {
        "colab": {
          "base_uri": "https://localhost:8080/"
        },
        "id": "J4859Mqtm8EQ",
        "outputId": "bd7469dc-861a-4ea5-ea4f-b2942ed5aeb2"
      },
      "outputs": [
        {
          "output_type": "stream",
          "name": "stdout",
          "text": [
            "Enter number of elements in list6\n",
            "enter the element2\n",
            "enter the element7\n",
            "enter the element4\n",
            "enter the element1\n",
            "enter the element3\n",
            "enter the element6\n",
            "the number of pairs are 4\n"
          ]
        }
      ],
      "source": [
        "def sumofpairs(list1):\n",
        "    pairs_count = 0\n",
        "    for i in range(len(list1)):\n",
        "        for j in range(i + 1, len(list1)):\n",
        "            if list1[i] + list1[j] == 10:\n",
        "                pairs_count += 1\n",
        "    return pairs_count\n",
        "\n",
        "n = int(input(\"Enter number of elements in list\"))\n",
        "list1 = []\n",
        "for i in range(n):\n",
        "  element = int(input(\"enter the element\"))\n",
        "  list1.append(element)\n",
        "result = sumofpairs(list1)\n",
        "print(\"the number of pairs are\",result*2)\n"
      ]
    },
    {
      "cell_type": "code",
      "source": [
        "def checkrange(list):\n",
        "  if len(list) < 3:\n",
        "    return \"Range determination is not possible\"\n",
        "  min=list[0]\n",
        "  for i in range(1,len(list)):\n",
        "    if list[i]<min:\n",
        "      min=list[i]\n",
        "  max=list[0]\n",
        "  for i in range(1,len(list)):\n",
        "    if list[i]>max:\n",
        "      max=list[i]\n",
        "  return max-min\n",
        "\n",
        "n = int(input(\"Enter number of elements in list\"))\n",
        "list = []\n",
        "for i in range(n):\n",
        "  element = int(input(\"enter the element\"))\n",
        "  list.append(element)\n",
        "result = checkrange(list)\n",
        "print(\"The range is\",result)"
      ],
      "metadata": {
        "colab": {
          "base_uri": "https://localhost:8080/"
        },
        "id": "2P0WhAyVsevB",
        "outputId": "b10f822b-41cb-41dc-a96e-b2e2a645bf74"
      },
      "execution_count": 31,
      "outputs": [
        {
          "output_type": "stream",
          "name": "stdout",
          "text": [
            "Enter number of elements in list2\n",
            "enter the element1\n",
            "enter the element6\n",
            "The range is Range determination is not possible\n"
          ]
        }
      ]
    },
    {
      "cell_type": "code",
      "source": [
        "def matrix_multiply(A, B):\n",
        "\n",
        "    n = len(A)\n",
        "\n",
        "    result = [[0 for i in range(n)] for i in range(n)]\n",
        "\n",
        "    for i in range(n):\n",
        "        for j in range(n):\n",
        "            for k in range(n):\n",
        "                result[i][j] += A[i][k] * B[k][j]\n",
        "\n",
        "    return result\n",
        "\n",
        "def matrix_power(A, m):\n",
        "\n",
        "    n = len(A)\n",
        "    result = [[1 if i == j else 0 for j in range(n)] for i in range(n)]\n",
        "\n",
        "\n",
        "    while m > 0:\n",
        "        if m % 2 == 1:\n",
        "            result = matrix_multiply(result, A)\n",
        "        A = matrix_multiply(A, A)\n",
        "        m //= 2\n",
        "\n",
        "    return result\n",
        "\n",
        "\n",
        "A = [\n",
        "    [1, 2],\n",
        "    [3, 4]\n",
        "]\n",
        "m = 3\n",
        "\n",
        "result = matrix_power(A, m)\n",
        "print(\"A^m:\")\n",
        "for row in result:\n",
        "    print(row)\n",
        "\n"
      ],
      "metadata": {
        "colab": {
          "base_uri": "https://localhost:8080/"
        },
        "id": "N6HbzmOTv4M9",
        "outputId": "e9ea4601-7bdb-4312-bb80-db54a49cb93b"
      },
      "execution_count": 39,
      "outputs": [
        {
          "output_type": "stream",
          "name": "stdout",
          "text": [
            "A^m:\n",
            "[37, 54]\n",
            "[81, 118]\n"
          ]
        }
      ]
    },
    {
      "cell_type": "code",
      "source": [
        "def count_highest_char(input_str):\n",
        "    normalized_str = ''\n",
        "    for char in input_str:\n",
        "        if 'a' <= char <= 'z' or 'A' <= char <= 'Z':\n",
        "            normalized_str += char.lower()\n",
        "\n",
        "    char_counts = [0] * 26\n",
        "\n",
        "    for char in normalized_str:\n",
        "        index = ord(char) - ord('a')\n",
        "        char_counts[index] += 1\n",
        "\n",
        "    max_count = 0\n",
        "    max_char = ''\n",
        "    for i in range(26):\n",
        "        if char_counts[i] > max_count:\n",
        "            max_count = char_counts[i]\n",
        "            max_char = chr(i + ord('a'))\n",
        "\n",
        "    return max_char, max_count\n",
        "\n",
        "input_str = input(\"Enter a string: \")\n",
        "highest_char, occurrence_count = count_highest_char(input_str)\n",
        "print(\"The highest occurring character is '{}' and its occurrence count is {}.\".format(highest_char, occurrence_count))"
      ],
      "metadata": {
        "colab": {
          "base_uri": "https://localhost:8080/"
        },
        "id": "i8iyI8tP1-Xr",
        "outputId": "e80f327d-d30f-4e0f-8f64-aa83b5044be8"
      },
      "execution_count": 44,
      "outputs": [
        {
          "output_type": "stream",
          "name": "stdout",
          "text": [
            "Enter a string: i am rajeev\n",
            "The highest occurring character is 'a' and its occurrence count is 2.\n"
          ]
        }
      ]
    },
    {
      "cell_type": "code",
      "source": [],
      "metadata": {
        "id": "2wWqFuNE2rPM"
      },
      "execution_count": null,
      "outputs": []
    }
  ]
}